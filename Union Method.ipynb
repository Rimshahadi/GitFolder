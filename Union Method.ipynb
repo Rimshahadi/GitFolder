{
 "cells": [
  {
   "cell_type": "markdown",
   "metadata": {},
   "source": [
    "# Set Union() Method "
   ]
  },
  {
   "cell_type": "markdown",
   "metadata": {},
   "source": [
    "# Example no 1"
   ]
  },
  {
   "cell_type": "code",
   "execution_count": 1,
   "metadata": {},
   "outputs": [
    {
     "name": "stdout",
     "output_type": "stream",
     "text": [
      "A U B = {1, 2, 3, 5}\n"
     ]
    }
   ],
   "source": [
    "A = {2,3,5}\n",
    "B = {1,3,5}\n",
    "print('A U B =',A.union(B))"
   ]
  },
  {
   "cell_type": "markdown",
   "metadata": {},
   "source": [
    "# Example no 2"
   ]
  },
  {
   "cell_type": "code",
   "execution_count": 2,
   "metadata": {},
   "outputs": [
    {
     "name": "stdout",
     "output_type": "stream",
     "text": [
      "A U B = {'d', 2, 'a', 'c'}\n",
      "B U C = {'d', 1, 2, 3, 'a', 'c'}\n",
      "A U B U C = {'d', 2, 1, 3, 'a', 'c'}\n",
      "A.union() = {'d', 'c', 'a'}\n"
     ]
    }
   ],
   "source": [
    "A = {'a','c','d'}\n",
    "B = {'c','d',2}\n",
    "C = {1,2,3}\n",
    "\n",
    "print('A U B =',A .union(B))\n",
    "print('B U C =',A.union(C))\n",
    "print('A U B U C =',A.union(B,C))\n",
    "print('A.union() =',A.union())\n"
   ]
  },
  {
   "cell_type": "markdown",
   "metadata": {},
   "source": [
    "# Example no 3"
   ]
  },
  {
   "cell_type": "code",
   "execution_count": 3,
   "metadata": {},
   "outputs": [
    {
     "name": "stdout",
     "output_type": "stream",
     "text": [
      "Union of set1 and set2: {1, 2, 3, 4, 5}\n"
     ]
    }
   ],
   "source": [
    "def union (set1,set2):\n",
    "    return set1.union(set2)\n",
    "set1 = {1,2,3}\n",
    "set2 = {3,4,5}\n",
    "result = union(set1,set2)\n",
    "print(\"Union of set1 and set2:\",result)    "
   ]
  },
  {
   "cell_type": "markdown",
   "metadata": {},
   "source": [
    "# Example no 4"
   ]
  },
  {
   "cell_type": "code",
   "execution_count": 4,
   "metadata": {},
   "outputs": [
    {
     "name": "stdout",
     "output_type": "stream",
     "text": [
      "{1, 2, 3, 4, 5, 6, 7}\n"
     ]
    }
   ],
   "source": [
    "set1 = {1,2,3}\n",
    "set2 = {3,4,5}\n",
    "print(set1.union(set2,{5,6,7}))"
   ]
  },
  {
   "cell_type": "markdown",
   "metadata": {},
   "source": [
    "# Example no 5"
   ]
  },
  {
   "cell_type": "code",
   "execution_count": 5,
   "metadata": {},
   "outputs": [
    {
     "name": "stdout",
     "output_type": "stream",
     "text": [
      "{'orange', 'SoftAsia Tech', 'Google', 'python pro', 'apple', 'banana'}\n"
     ]
    }
   ],
   "source": [
    "x = {\"apple\",\"banana\",\"orange\"}\n",
    "y = {\"SoftAsia Tech\",\"python pro\",\"Google\"}\n",
    "z = x.union(y)\n",
    "print(z)"
   ]
  },
  {
   "cell_type": "code",
   "execution_count": null,
   "metadata": {},
   "outputs": [],
   "source": []
  }
 ],
 "metadata": {
  "kernelspec": {
   "display_name": "Python 3",
   "language": "python",
   "name": "python3"
  },
  "language_info": {
   "codemirror_mode": {
    "name": "ipython",
    "version": 3
   },
   "file_extension": ".py",
   "mimetype": "text/x-python",
   "name": "python",
   "nbconvert_exporter": "python",
   "pygments_lexer": "ipython3",
   "version": "3.12.2"
  }
 },
 "nbformat": 4,
 "nbformat_minor": 2
}
